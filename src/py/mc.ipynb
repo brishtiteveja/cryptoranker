{
 "cells": [
  {
   "cell_type": "code",
   "execution_count": null,
   "metadata": {},
   "outputs": [],
   "source": [
    "from itables import init_notebook_mode\n",
    "init_notebook_mode(all_interactive=True)"
   ]
  },
  {
   "cell_type": "code",
   "execution_count": 15,
   "metadata": {},
   "outputs": [
    {
     "name": "stdout",
     "output_type": "stream",
     "text": [
      "['crypto_market_data_for_2000_coins_20230705_084150.pkl', 'crypto_market_data_for_3311_coins_20230710_061453.pkl', 'crypto_market_data_for_3000_coins_20230706_193546.pkl', 'crypto_market_data_for_100_coins_20230704_180439.pkl', 'crypto_market_data_for_1000_coins_20230705_004501.pkl']\n"
     ]
    }
   ],
   "source": [
    "# get the data\n",
    "import os\n",
    "import pickle\n",
    "import pprint as pp\n",
    "import pandas as pd\n",
    "import numpy as np\n",
    "\n",
    "datadir = \"./data\"\n",
    "# datadir = \"./data_by100_backup\"\n",
    "fs = os.listdir(datadir)\n",
    "print(fs)"
   ]
  },
  {
   "cell_type": "code",
   "execution_count": 18,
   "metadata": {},
   "outputs": [
    {
     "data": {
      "text/html": [
       "<div>\n",
       "<style scoped>\n",
       "    .dataframe tbody tr th:only-of-type {\n",
       "        vertical-align: middle;\n",
       "    }\n",
       "\n",
       "    .dataframe tbody tr th {\n",
       "        vertical-align: top;\n",
       "    }\n",
       "\n",
       "    .dataframe thead th {\n",
       "        text-align: right;\n",
       "    }\n",
       "</style>\n",
       "<table border=\"1\" class=\"dataframe\">\n",
       "  <thead>\n",
       "    <tr style=\"text-align: right;\">\n",
       "      <th></th>\n",
       "      <th>timestamp</th>\n",
       "      <th>market_cap</th>\n",
       "      <th>cryptocurrency</th>\n",
       "    </tr>\n",
       "  </thead>\n",
       "  <tbody>\n",
       "    <tr>\n",
       "      <th>1342</th>\n",
       "      <td>2017-01-01</td>\n",
       "      <td>1.604599e+10</td>\n",
       "      <td>bitcoin</td>\n",
       "    </tr>\n",
       "    <tr>\n",
       "      <th>1343</th>\n",
       "      <td>2017-01-02</td>\n",
       "      <td>1.638793e+10</td>\n",
       "      <td>bitcoin</td>\n",
       "    </tr>\n",
       "    <tr>\n",
       "      <th>1344</th>\n",
       "      <td>2017-01-03</td>\n",
       "      <td>1.665272e+10</td>\n",
       "      <td>bitcoin</td>\n",
       "    </tr>\n",
       "    <tr>\n",
       "      <th>1345</th>\n",
       "      <td>2017-01-04</td>\n",
       "      <td>1.818766e+10</td>\n",
       "      <td>bitcoin</td>\n",
       "    </tr>\n",
       "    <tr>\n",
       "      <th>1346</th>\n",
       "      <td>2017-01-05</td>\n",
       "      <td>1.593489e+10</td>\n",
       "      <td>bitcoin</td>\n",
       "    </tr>\n",
       "  </tbody>\n",
       "</table>\n",
       "</div>"
      ],
      "text/plain": [
       "      timestamp    market_cap cryptocurrency\n",
       "1342 2017-01-01  1.604599e+10        bitcoin\n",
       "1343 2017-01-02  1.638793e+10        bitcoin\n",
       "1344 2017-01-03  1.665272e+10        bitcoin\n",
       "1345 2017-01-04  1.818766e+10        bitcoin\n",
       "1346 2017-01-05  1.593489e+10        bitcoin"
      ]
     },
     "execution_count": 18,
     "metadata": {},
     "output_type": "execute_result"
    }
   ],
   "source": [
    "datadir = './data'\n",
    "fn = datadir + \"/crypto_market_data_for_3311_coins_20230710_061453.pkl\"\n",
    "f = open(fn, 'rb')\n",
    "\n",
    "data = pd.read_pickle(fn)\n",
    "# Initialize a list to store DataFrames\n",
    "dfs = []\n",
    "# Iterate over each cryptocurrency\n",
    "for crypto, crypto_data in data.items():\n",
    "    if not isinstance(crypto_data, dict):\n",
    "        continue\n",
    "\n",
    "    # Convert the nested dictionary to a DataFrame\n",
    "    temp_df = pd.DataFrame({\n",
    "        'Date': [x[0] for x in crypto_data['market_caps']],\n",
    "        'MarketCap': [x[1] for x in crypto_data['market_caps']],\n",
    "    })\n",
    "    \n",
    "    # Convert Unix timestamp to datetime\n",
    "    temp_df['Date'] = pd.to_datetime(temp_df['timestamp'], unit='ms')\n",
    "    \n",
    "    # Add a column for the cryptocurrency name\n",
    "    temp_df['Crypto'] = crypto\n",
    "    \n",
    "    # Append DataFrame to the list\n",
    "    dfs.append(temp_df)\n",
    "\n",
    "# Concatenate all DataFrames\n",
    "crypto_df = pd.concat(dfs, ignore_index=True)\n",
    "\n",
    "# Filter out rows with zero market cap\n",
    "crypto_df = crypto_df[crypto_df['MarketCap'] != 0]\n",
    "\n",
    "# Filter out rows before 2017-01-01\n",
    "start_date = '2017-01-01'\n",
    "crypto_df = crypto_df[crypto_df['Date'] >= start_date]\n",
    "\n",
    "df = crypto_df"
   ]
  },
  {
   "cell_type": "code",
   "execution_count": 19,
   "metadata": {},
   "outputs": [
    {
     "data": {
      "text/html": [
       "<div>\n",
       "<style scoped>\n",
       "    .dataframe tbody tr th:only-of-type {\n",
       "        vertical-align: middle;\n",
       "    }\n",
       "\n",
       "    .dataframe tbody tr th {\n",
       "        vertical-align: top;\n",
       "    }\n",
       "\n",
       "    .dataframe thead th {\n",
       "        text-align: right;\n",
       "    }\n",
       "</style>\n",
       "<table border=\"1\" class=\"dataframe\">\n",
       "  <thead>\n",
       "    <tr style=\"text-align: right;\">\n",
       "      <th></th>\n",
       "      <th>timestamp</th>\n",
       "      <th>market_cap</th>\n",
       "      <th>cryptocurrency</th>\n",
       "    </tr>\n",
       "  </thead>\n",
       "  <tbody>\n",
       "    <tr>\n",
       "      <th>7279202</th>\n",
       "      <td>2023-07-07 00:00:00</td>\n",
       "      <td>45304.174672</td>\n",
       "      <td>pancake-bunny</td>\n",
       "    </tr>\n",
       "    <tr>\n",
       "      <th>7279203</th>\n",
       "      <td>2023-07-08 00:00:00</td>\n",
       "      <td>46011.789642</td>\n",
       "      <td>pancake-bunny</td>\n",
       "    </tr>\n",
       "    <tr>\n",
       "      <th>7279204</th>\n",
       "      <td>2023-07-09 00:00:00</td>\n",
       "      <td>47252.051745</td>\n",
       "      <td>pancake-bunny</td>\n",
       "    </tr>\n",
       "    <tr>\n",
       "      <th>7279205</th>\n",
       "      <td>2023-07-10 00:00:00</td>\n",
       "      <td>41856.428192</td>\n",
       "      <td>pancake-bunny</td>\n",
       "    </tr>\n",
       "    <tr>\n",
       "      <th>7279206</th>\n",
       "      <td>2023-07-10 04:14:39</td>\n",
       "      <td>43972.941834</td>\n",
       "      <td>pancake-bunny</td>\n",
       "    </tr>\n",
       "  </tbody>\n",
       "</table>\n",
       "</div>"
      ],
      "text/plain": [
       "                  timestamp    market_cap cryptocurrency\n",
       "7279202 2023-07-07 00:00:00  45304.174672  pancake-bunny\n",
       "7279203 2023-07-08 00:00:00  46011.789642  pancake-bunny\n",
       "7279204 2023-07-09 00:00:00  47252.051745  pancake-bunny\n",
       "7279205 2023-07-10 00:00:00  41856.428192  pancake-bunny\n",
       "7279206 2023-07-10 04:14:39  43972.941834  pancake-bunny"
      ]
     },
     "execution_count": 19,
     "metadata": {},
     "output_type": "execute_result"
    }
   ],
   "source": [
    "crypto_df.tail()"
   ]
  },
  {
   "cell_type": "code",
   "execution_count": 5,
   "metadata": {},
   "outputs": [],
   "source": [
    "coins = list(d.keys())\n",
    "\n",
    "# create mc dict\n",
    "mcd = {}\n",
    "\n",
    "for c in d.keys():\n",
    "    mcd[c] = {}\n",
    "    try:\n",
    "        if type(d[c]) == dict:\n",
    "            for m in d[c]['market_caps']:\n",
    "                t = m[0]\n",
    "                mv = m[1]\n",
    "                mcd[c][t] = mv\n",
    "    except KeyError:\n",
    "        print(\"KeyError: \", c)\n",
    "\n"
   ]
  },
  {
   "cell_type": "code",
   "execution_count": 6,
   "metadata": {},
   "outputs": [],
   "source": [
    "# create pandas dataframe\n",
    "mc = pd.DataFrame(mcd)\n",
    "\n",
    "mc[\"timestamp\"] = pd.to_datetime(mc.index, unit='ms')\n",
    "mc = mc.set_index(pd.DatetimeIndex(mc['timestamp']))\n",
    "mc = mc[mc[\"timestamp\"].dt.hour == 0]\n",
    "mc = mc[mc[\"timestamp\"].dt.minute == 0]\n",
    "mc = mc[mc[\"timestamp\"].dt.second == 0]\n",
    "mc = mc.sort_index()\n",
    "mc = mc.fillna(0)"
   ]
  },
  {
   "cell_type": "code",
   "execution_count": 7,
   "metadata": {},
   "outputs": [],
   "source": [
    "mcf = mc[mc.index > '2017-01-01']\n",
    "mcf = mcf.drop(\"timestamp\", axis=1)"
   ]
  },
  {
   "cell_type": "code",
   "execution_count": 8,
   "metadata": {},
   "outputs": [],
   "source": [
    "mcff = mcf.transpose()\n",
    "#mcff.to_html(\"mc.html\")"
   ]
  },
  {
   "cell_type": "code",
   "execution_count": 9,
   "metadata": {},
   "outputs": [
    {
     "data": {
      "text/plain": [
       "(2000, 2374)"
      ]
     },
     "execution_count": 9,
     "metadata": {},
     "output_type": "execute_result"
    }
   ],
   "source": [
    "#mcff\n",
    "mcff.columns\n",
    "mcff.shape"
   ]
  },
  {
   "cell_type": "code",
   "execution_count": 10,
   "metadata": {},
   "outputs": [
    {
     "data": {
      "text/plain": [
       "sci-coin-2     0.000000e+00\n",
       "thala          0.000000e+00\n",
       "findora        0.000000e+00\n",
       "basilisk       0.000000e+00\n",
       "t-mac-dao      0.000000e+00\n",
       "                   ...     \n",
       "binancecoin    3.575102e+10\n",
       "usd-coin       5.580641e+10\n",
       "tether         6.630277e+10\n",
       "ethereum       1.282743e+11\n",
       "bitcoin        3.709165e+11\n",
       "Name: 2022-07-02 00:00:00, Length: 2000, dtype: float64"
      ]
     },
     "execution_count": 10,
     "metadata": {},
     "output_type": "execute_result"
    }
   ],
   "source": [
    "c = '2022-07-02'\n",
    "sdf = mcff.sort_values(by=c)[c]\n",
    "sdf"
   ]
  },
  {
   "cell_type": "code",
   "execution_count": 11,
   "metadata": {},
   "outputs": [
    {
     "ename": "",
     "evalue": "",
     "output_type": "error",
     "traceback": [
      "\u001b[1;31mCanceled future for execute_request message before replies were done"
     ]
    },
    {
     "ename": "",
     "evalue": "",
     "output_type": "error",
     "traceback": [
      "\u001b[1;31mThe Kernel crashed while executing code in the the current cell or a previous cell. Please review the code in the cell(s) to identify a possible cause of the failure. Click <a href='https://aka.ms/vscodeJupyterKernelCrash'>here</a> for more info. View Jupyter <a href='command:jupyter.viewOutput'>log</a> for further details."
     ]
    }
   ],
   "source": [
    "sd = {}\n",
    "for c in mcff.columns:\n",
    "    a = mcff.sort_values(by=c, ascending=False)[c]\n",
    "    b = a.index\n",
    "    tpl = zip(b, a)\n",
    "    sd[c] = tpl\n",
    "\n",
    "sdf = pd.DataFrame(sd)\n",
    "#sdf.to_html('ranked_by_data.html')\n",
    "\n",
    "from datetime import datetime\n",
    "today = datetime.today()\n",
    "date = f'{today.day}_{today.month}_{today.year}'\n",
    "\n",
    "csv_fn = 'ranked_by_data_' + date + '.csv' \n",
    "\n",
    "sdf.to_csv(csv_fn)"
   ]
  },
  {
   "cell_type": "code",
   "execution_count": 10,
   "metadata": {},
   "outputs": [
    {
     "name": "stderr",
     "output_type": "stream",
     "text": [
      "2023-05-28 12:06:03,619 - ERROR    - 10.0.0.88 - - [28/May/2023 12:06:03] code 400, message Bad request version ('úú\\x13\\x01\\x13\\x02\\x13\\x03À+À/À,À0Ì©Ì¨À\\x13À\\x14\\x00\\x9c\\x00\\x9d\\x00/\\x005\\x01\\x00\\x01\\x93ÊÊ\\x00\\x00\\x00\\x17\\x00\\x00\\x00')\n",
      "2023-05-28 12:06:03,637 - ERROR    - 10.0.0.88 - - [28/May/2023 12:06:03] code 400, message Bad request version ('X.£\\x9e\\\\o¨3\\x00')\n",
      "2023-05-28 13:19:36,318 - INFO     - Executing shutdown due to inactivity...\n",
      "2023-05-28 13:19:36,545 - INFO     - Executing shutdown...\n",
      "/Users/andy/opt/anaconda3/lib/python3.9/site-packages/dtale/app.py:420: UserWarning:\n",
      "\n",
      "The 'environ['werkzeug.server.shutdown']' function is deprecated and will be removed in Werkzeug 2.1.\n",
      "\n"
     ]
    }
   ],
   "source": [
    "# reverse the columns\n",
    "sdf = sdf.iloc[:, ::-1]\n",
    "\n",
    "# now show every 7th column (weekly)\n",
    "sdff = sdf.iloc[:, ::7]\n",
    "\n",
    "import dtale\n",
    "d = dtale.show(sdff)\n",
    "d.open_browser()"
   ]
  }
 ],
 "metadata": {
  "kernelspec": {
   "display_name": "Python 3",
   "language": "python",
   "name": "python3"
  },
  "language_info": {
   "codemirror_mode": {
    "name": "ipython",
    "version": 3
   },
   "file_extension": ".py",
   "mimetype": "text/x-python",
   "name": "python",
   "nbconvert_exporter": "python",
   "pygments_lexer": "ipython3",
   "version": "3.9.12"
  },
  "orig_nbformat": 4
 },
 "nbformat": 4,
 "nbformat_minor": 2
}
